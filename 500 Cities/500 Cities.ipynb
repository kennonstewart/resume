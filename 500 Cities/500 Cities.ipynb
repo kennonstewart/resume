{
 "cells": [
  {
   "cell_type": "markdown",
   "metadata": {},
   "source": [
    "# America's 500 Largest Cities through the Numbers\n",
    "### An exploration of urban health compiled by Kennon Stewart\n",
    "We live in strange times. The COVID-19 pandemic exposed the holes in many states' health systems and, for the first time, states are reckoning with their inadequate public health measures. This is an exploration of the pre-COVID health issues facing individual census tracts in 2016-2017, brought together to paint a larger picture of their state."
   ]
  },
  {
   "cell_type": "code",
   "execution_count": 1,
   "metadata": {},
   "outputs": [
    {
     "data": {
      "application/javascript": [
       "IPython.notebook.set_autosave_interval(15000)"
      ]
     },
     "metadata": {},
     "output_type": "display_data"
    },
    {
     "name": "stdout",
     "output_type": "stream",
     "text": [
      "Autosaving every 15 seconds\n"
     ]
    }
   ],
   "source": [
    "%autosave 15\n",
    "import matplotlib as mpl\n",
    "import matplotlib.pyplot as plt\n",
    "%matplotlib inline\n",
    "import numpy as np\n",
    "import pandas as pd"
   ]
  },
  {
   "cell_type": "markdown",
   "metadata": {},
   "source": [
    "The dataset I'm using is the 500 Cities database provided by the CDC in 2019. Unfortunately the set only has data from years 2016 and 2017 so, if anyone knows of more comprehensive data, let me know! As for this dataset, I want to save as much stress on my laptop as possible so I'll only read the relevant columns."
   ]
  },
  {
   "cell_type": "code",
   "execution_count": 2,
   "metadata": {},
   "outputs": [],
   "source": [
    "cols = ['Year','StateAbbr','High_Confidence_Limit','UniqueID','Short_Question_Text']\n",
    "\n",
    "# Variables:\n",
    "# StateAbbr = State Abbreviation\n",
    "# High_Confidence_Limit = the highest confidence limit estimate for a particular census tract for a particular ailment\n",
    "# Unique_ID = the unique ID for each census tract in the country which will be matched with census data from the year 2017\n",
    "# Short_Question_Text = \n",
    "\n",
    "cities = pd.read_csv('/Users/student/Downloads/500 Cities/500_Cities__Local_Data_for_Better_Health__2019_release.csv', usecols=cols)"
   ]
  },
  {
   "cell_type": "markdown",
   "metadata": {},
   "source": [
    "I'm also uploading racial data from the Census that gives demographic information for the tracts we're analyzing in the cities dataset. This gives us more information about the backgroud of each tract and allows us to take a larger look at the relationships between health and social factors."
   ]
  },
  {
   "cell_type": "code",
   "execution_count": 3,
   "metadata": {},
   "outputs": [],
   "source": [
    "cols2 = ['GEO_ID','DP05_0038E','DP05_0038M','DP05_0038PE','DP05_0038PM']\n",
    "\n",
    "# Variables:\n",
    "# GEO_ID = ID of the Census tract \n",
    "# DP05_0038E = estimated real count of Black Americans\n",
    "# DP05_0038M = margin of error of real count of Black Americans\n",
    "# DP05_0038PE = estimated percentage of Black Americans\n",
    "# DP05_0038PM = margin of error of estimated percentage of Black Americans\n",
    "\n",
    "racial = pd.read_csv('/Users/student/Downloads/ACSDP5Y2017.DP05_2020-06-27T105923/ACSDP5Y2017.DP05_data_with_overlays_2020-06-27T105738.csv',usecols=cols2,low_memory=False)"
   ]
  },
  {
   "cell_type": "markdown",
   "metadata": {},
   "source": [
    "I'll go ahead and clean the Unique ID's for the census tracts. This helps us join the tables together "
   ]
  },
  {
   "cell_type": "code",
   "execution_count": 4,
   "metadata": {},
   "outputs": [],
   "source": [
    "cities['ID'] = cities['UniqueID'].map(lambda x: x.replace('-',''))\n",
    "cities['ID'] = cities['UniqueID'].map(lambda x: x[8:])\n",
    "cities = cities.drop('UniqueID',axis=1)"
   ]
  },
  {
   "cell_type": "code",
   "execution_count": 5,
   "metadata": {},
   "outputs": [
    {
     "data": {
      "text/html": [
       "<div>\n",
       "<style scoped>\n",
       "    .dataframe tbody tr th:only-of-type {\n",
       "        vertical-align: middle;\n",
       "    }\n",
       "\n",
       "    .dataframe tbody tr th {\n",
       "        vertical-align: top;\n",
       "    }\n",
       "\n",
       "    .dataframe thead th {\n",
       "        text-align: right;\n",
       "    }\n",
       "</style>\n",
       "<table border=\"1\" class=\"dataframe\">\n",
       "  <thead>\n",
       "    <tr style=\"text-align: right;\">\n",
       "      <th></th>\n",
       "      <th>Year</th>\n",
       "      <th>StateAbbr</th>\n",
       "      <th>High_Confidence_Limit</th>\n",
       "      <th>Short_Question_Text</th>\n",
       "      <th>ID</th>\n",
       "    </tr>\n",
       "  </thead>\n",
       "  <tbody>\n",
       "    <tr>\n",
       "      <th>0</th>\n",
       "      <td>2016</td>\n",
       "      <td>IL</td>\n",
       "      <td>39.9</td>\n",
       "      <td>Teeth Loss</td>\n",
       "      <td>17031612000</td>\n",
       "    </tr>\n",
       "    <tr>\n",
       "      <th>1</th>\n",
       "      <td>2016</td>\n",
       "      <td>IL</td>\n",
       "      <td>46.3</td>\n",
       "      <td>Dental Visit</td>\n",
       "      <td>17031660700</td>\n",
       "    </tr>\n",
       "    <tr>\n",
       "      <th>2</th>\n",
       "      <td>2017</td>\n",
       "      <td>IL</td>\n",
       "      <td>10.5</td>\n",
       "      <td>Current Asthma</td>\n",
       "      <td>17115001100</td>\n",
       "    </tr>\n",
       "    <tr>\n",
       "      <th>3</th>\n",
       "      <td>2016</td>\n",
       "      <td>IL</td>\n",
       "      <td>27.4</td>\n",
       "      <td>Teeth Loss</td>\n",
       "      <td>17197881603</td>\n",
       "    </tr>\n",
       "    <tr>\n",
       "      <th>4</th>\n",
       "      <td>2017</td>\n",
       "      <td>IL</td>\n",
       "      <td>26.3</td>\n",
       "      <td>High Cholesterol</td>\n",
       "      <td>17031804405</td>\n",
       "    </tr>\n",
       "    <tr>\n",
       "      <th>5</th>\n",
       "      <td>2016</td>\n",
       "      <td>IL</td>\n",
       "      <td>28.3</td>\n",
       "      <td>Teeth Loss</td>\n",
       "      <td>17197882801</td>\n",
       "    </tr>\n",
       "    <tr>\n",
       "      <th>6</th>\n",
       "      <td>2016</td>\n",
       "      <td>IL</td>\n",
       "      <td>37.4</td>\n",
       "      <td>Sleep &lt;7 hours</td>\n",
       "      <td>17031840400</td>\n",
       "    </tr>\n",
       "    <tr>\n",
       "      <th>7</th>\n",
       "      <td>2017</td>\n",
       "      <td>IL</td>\n",
       "      <td>10.3</td>\n",
       "      <td>Diabetes</td>\n",
       "      <td>17031151002</td>\n",
       "    </tr>\n",
       "    <tr>\n",
       "      <th>8</th>\n",
       "      <td>2017</td>\n",
       "      <td>IL</td>\n",
       "      <td>41.1</td>\n",
       "      <td>Obesity</td>\n",
       "      <td>17031381900</td>\n",
       "    </tr>\n",
       "    <tr>\n",
       "      <th>9</th>\n",
       "      <td>2016</td>\n",
       "      <td>IL</td>\n",
       "      <td>14.1</td>\n",
       "      <td>Teeth Loss</td>\n",
       "      <td>17031130300</td>\n",
       "    </tr>\n",
       "  </tbody>\n",
       "</table>\n",
       "</div>"
      ],
      "text/plain": [
       "   Year StateAbbr  High_Confidence_Limit Short_Question_Text           ID\n",
       "0  2016        IL                   39.9          Teeth Loss  17031612000\n",
       "1  2016        IL                   46.3        Dental Visit  17031660700\n",
       "2  2017        IL                   10.5      Current Asthma  17115001100\n",
       "3  2016        IL                   27.4          Teeth Loss  17197881603\n",
       "4  2017        IL                   26.3    High Cholesterol  17031804405\n",
       "5  2016        IL                   28.3          Teeth Loss  17197882801\n",
       "6  2016        IL                   37.4      Sleep <7 hours  17031840400\n",
       "7  2017        IL                   10.3            Diabetes  17031151002\n",
       "8  2017        IL                   41.1             Obesity  17031381900\n",
       "9  2016        IL                   14.1          Teeth Loss  17031130300"
      ]
     },
     "execution_count": 5,
     "metadata": {},
     "output_type": "execute_result"
    }
   ],
   "source": [
    "cities.head(10)"
   ]
  },
  {
   "cell_type": "code",
   "execution_count": 6,
   "metadata": {},
   "outputs": [],
   "source": [
    "racial = racial.drop([0])\n",
    "racial['ID'] = racial['GEO_ID'].map(lambda x: x.replace('US',''))\n",
    "mess = ['*','**','-']\n",
    "for i in mess:\n",
    "    racial['DP05_0038PM'] = racial['DP05_0038PM'].map(lambda x: x.replace(i,'NaN'))\n",
    "    racial['DP05_0038PE'] = racial['DP05_0038PE'].map(lambda y: y.replace(i,'NaN'))\n",
    "racial['ID'] = racial['GEO_ID'].map(lambda x: x[9:])\n",
    "racial = racial.drop('GEO_ID',axis=1)"
   ]
  },
  {
   "cell_type": "code",
   "execution_count": 7,
   "metadata": {},
   "outputs": [
    {
     "data": {
      "text/html": [
       "<div>\n",
       "<style scoped>\n",
       "    .dataframe tbody tr th:only-of-type {\n",
       "        vertical-align: middle;\n",
       "    }\n",
       "\n",
       "    .dataframe tbody tr th {\n",
       "        vertical-align: top;\n",
       "    }\n",
       "\n",
       "    .dataframe thead th {\n",
       "        text-align: right;\n",
       "    }\n",
       "</style>\n",
       "<table border=\"1\" class=\"dataframe\">\n",
       "  <thead>\n",
       "    <tr style=\"text-align: right;\">\n",
       "      <th></th>\n",
       "      <th>DP05_0038E</th>\n",
       "      <th>DP05_0038M</th>\n",
       "      <th>DP05_0038PE</th>\n",
       "      <th>DP05_0038PM</th>\n",
       "      <th>ID</th>\n",
       "    </tr>\n",
       "  </thead>\n",
       "  <tbody>\n",
       "    <tr>\n",
       "      <th>1</th>\n",
       "      <td>163</td>\n",
       "      <td>161</td>\n",
       "      <td>6.2</td>\n",
       "      <td>5.9</td>\n",
       "      <td>01007010001</td>\n",
       "    </tr>\n",
       "    <tr>\n",
       "      <th>2</th>\n",
       "      <td>303</td>\n",
       "      <td>199</td>\n",
       "      <td>4.9</td>\n",
       "      <td>3.1</td>\n",
       "      <td>01007010002</td>\n",
       "    </tr>\n",
       "    <tr>\n",
       "      <th>3</th>\n",
       "      <td>890</td>\n",
       "      <td>412</td>\n",
       "      <td>17.7</td>\n",
       "      <td>7.3</td>\n",
       "      <td>01007010003</td>\n",
       "    </tr>\n",
       "    <tr>\n",
       "      <th>4</th>\n",
       "      <td>3623</td>\n",
       "      <td>438</td>\n",
       "      <td>41.6</td>\n",
       "      <td>4.2</td>\n",
       "      <td>01007010004</td>\n",
       "    </tr>\n",
       "    <tr>\n",
       "      <th>5</th>\n",
       "      <td>980</td>\n",
       "      <td>151</td>\n",
       "      <td>87.5</td>\n",
       "      <td>6.6</td>\n",
       "      <td>01087231603</td>\n",
       "    </tr>\n",
       "  </tbody>\n",
       "</table>\n",
       "</div>"
      ],
      "text/plain": [
       "  DP05_0038E DP05_0038M DP05_0038PE DP05_0038PM           ID\n",
       "1        163        161         6.2         5.9  01007010001\n",
       "2        303        199         4.9         3.1  01007010002\n",
       "3        890        412        17.7         7.3  01007010003\n",
       "4       3623        438        41.6         4.2  01007010004\n",
       "5        980        151        87.5         6.6  01087231603"
      ]
     },
     "execution_count": 7,
     "metadata": {},
     "output_type": "execute_result"
    }
   ],
   "source": [
    "racial.head()"
   ]
  },
  {
   "cell_type": "markdown",
   "metadata": {},
   "source": [
    "We were successfully able to merge the racial and health data of most census tracts within the United States, consisting of the 500 largest cities within the country. Because of the outer merge, we can also see that some of the census data we loaded doesn't have any corresponding CDC data. Since the analysis is only of the 500 largest cities, we'll exclude these from analysis. In addition, some of the survey tracts within the 500 Cities survey were too small to be surveyed effectively, so researchers didn't report those counties."
   ]
  },
  {
   "cell_type": "code",
   "execution_count": 8,
   "metadata": {},
   "outputs": [],
   "source": [
    "combined = pd.merge(racial, cities, on='ID', how='inner')\n",
    "combined.dropna(inplace=True)"
   ]
  },
  {
   "cell_type": "code",
   "execution_count": 9,
   "metadata": {},
   "outputs": [
    {
     "data": {
      "text/plain": [
       "(746577, 9)"
      ]
     },
     "execution_count": 9,
     "metadata": {},
     "output_type": "execute_result"
    }
   ],
   "source": [
    "combined.shape"
   ]
  },
  {
   "cell_type": "code",
   "execution_count": 10,
   "metadata": {},
   "outputs": [],
   "source": [
    "michigan = combined[combined['StateAbbr']=='MI']"
   ]
  },
  {
   "cell_type": "markdown",
   "metadata": {},
   "source": [
    "For a sample analysis, I'll look at my home state of Michigan. Now that I have the percentage of Black residents in each census tract as well as the prevalence of health outcomes in that tract, I can run a one-way ANOVA. This is a standard test to determine whether an independent variable impacts some numeric dependent variable, in this instance we'll do Coronary Heart Disease."
   ]
  },
  {
   "cell_type": "code",
   "execution_count": 11,
   "metadata": {},
   "outputs": [],
   "source": [
    "chdMI = michigan[michigan['Short_Question_Text']=='Coronary Heart Disease']"
   ]
  },
  {
   "cell_type": "code",
   "execution_count": 12,
   "metadata": {},
   "outputs": [
    {
     "data": {
      "text/html": [
       "<div>\n",
       "<style scoped>\n",
       "    .dataframe tbody tr th:only-of-type {\n",
       "        vertical-align: middle;\n",
       "    }\n",
       "\n",
       "    .dataframe tbody tr th {\n",
       "        vertical-align: top;\n",
       "    }\n",
       "\n",
       "    .dataframe thead th {\n",
       "        text-align: right;\n",
       "    }\n",
       "</style>\n",
       "<table border=\"1\" class=\"dataframe\">\n",
       "  <thead>\n",
       "    <tr style=\"text-align: right;\">\n",
       "      <th></th>\n",
       "      <th>DP05_0038E</th>\n",
       "      <th>DP05_0038M</th>\n",
       "      <th>DP05_0038PE</th>\n",
       "      <th>DP05_0038PM</th>\n",
       "      <th>ID</th>\n",
       "      <th>Year</th>\n",
       "      <th>StateAbbr</th>\n",
       "      <th>High_Confidence_Limit</th>\n",
       "      <th>Short_Question_Text</th>\n",
       "    </tr>\n",
       "  </thead>\n",
       "  <tbody>\n",
       "    <tr>\n",
       "      <th>378930</th>\n",
       "      <td>236</td>\n",
       "      <td>207</td>\n",
       "      <td>3.7</td>\n",
       "      <td>3.2</td>\n",
       "      <td>26099230602</td>\n",
       "      <td>2017</td>\n",
       "      <td>MI</td>\n",
       "      <td>8.0</td>\n",
       "      <td>Coronary Heart Disease</td>\n",
       "    </tr>\n",
       "    <tr>\n",
       "      <th>378977</th>\n",
       "      <td>197</td>\n",
       "      <td>114</td>\n",
       "      <td>2.8</td>\n",
       "      <td>1.6</td>\n",
       "      <td>26099230601</td>\n",
       "      <td>2017</td>\n",
       "      <td>MI</td>\n",
       "      <td>7.0</td>\n",
       "      <td>Coronary Heart Disease</td>\n",
       "    </tr>\n",
       "    <tr>\n",
       "      <th>378996</th>\n",
       "      <td>942</td>\n",
       "      <td>275</td>\n",
       "      <td>26.8</td>\n",
       "      <td>6.0</td>\n",
       "      <td>26099268400</td>\n",
       "      <td>2017</td>\n",
       "      <td>MI</td>\n",
       "      <td>10.5</td>\n",
       "      <td>Coronary Heart Disease</td>\n",
       "    </tr>\n",
       "    <tr>\n",
       "      <th>379102</th>\n",
       "      <td>353</td>\n",
       "      <td>116</td>\n",
       "      <td>4.7</td>\n",
       "      <td>1.6</td>\n",
       "      <td>26161400300</td>\n",
       "      <td>2017</td>\n",
       "      <td>MI</td>\n",
       "      <td>1.8</td>\n",
       "      <td>Coronary Heart Disease</td>\n",
       "    </tr>\n",
       "    <tr>\n",
       "      <th>379123</th>\n",
       "      <td>88</td>\n",
       "      <td>82</td>\n",
       "      <td>2.0</td>\n",
       "      <td>1.8</td>\n",
       "      <td>26161400600</td>\n",
       "      <td>2017</td>\n",
       "      <td>MI</td>\n",
       "      <td>3.4</td>\n",
       "      <td>Coronary Heart Disease</td>\n",
       "    </tr>\n",
       "    <tr>\n",
       "      <th>379155</th>\n",
       "      <td>439</td>\n",
       "      <td>170</td>\n",
       "      <td>21.2</td>\n",
       "      <td>7.3</td>\n",
       "      <td>26161404200</td>\n",
       "      <td>2017</td>\n",
       "      <td>MI</td>\n",
       "      <td>4.3</td>\n",
       "      <td>Coronary Heart Disease</td>\n",
       "    </tr>\n",
       "    <tr>\n",
       "      <th>379184</th>\n",
       "      <td>4180</td>\n",
       "      <td>472</td>\n",
       "      <td>96.0</td>\n",
       "      <td>2.7</td>\n",
       "      <td>26163541500</td>\n",
       "      <td>2017</td>\n",
       "      <td>MI</td>\n",
       "      <td>10.6</td>\n",
       "      <td>Coronary Heart Disease</td>\n",
       "    </tr>\n",
       "    <tr>\n",
       "      <th>379217</th>\n",
       "      <td>2092</td>\n",
       "      <td>290</td>\n",
       "      <td>93.9</td>\n",
       "      <td>3.1</td>\n",
       "      <td>26163541700</td>\n",
       "      <td>2017</td>\n",
       "      <td>MI</td>\n",
       "      <td>10.5</td>\n",
       "      <td>Coronary Heart Disease</td>\n",
       "    </tr>\n",
       "    <tr>\n",
       "      <th>379236</th>\n",
       "      <td>3017</td>\n",
       "      <td>427</td>\n",
       "      <td>95.1</td>\n",
       "      <td>5.5</td>\n",
       "      <td>26163543200</td>\n",
       "      <td>2017</td>\n",
       "      <td>MI</td>\n",
       "      <td>7.9</td>\n",
       "      <td>Coronary Heart Disease</td>\n",
       "    </tr>\n",
       "    <tr>\n",
       "      <th>379275</th>\n",
       "      <td>1479</td>\n",
       "      <td>371</td>\n",
       "      <td>96.0</td>\n",
       "      <td>2.6</td>\n",
       "      <td>26163545300</td>\n",
       "      <td>2017</td>\n",
       "      <td>MI</td>\n",
       "      <td>10.6</td>\n",
       "      <td>Coronary Heart Disease</td>\n",
       "    </tr>\n",
       "    <tr>\n",
       "      <th>379288</th>\n",
       "      <td>1490</td>\n",
       "      <td>264</td>\n",
       "      <td>88.5</td>\n",
       "      <td>9.5</td>\n",
       "      <td>26163545400</td>\n",
       "      <td>2017</td>\n",
       "      <td>MI</td>\n",
       "      <td>10.1</td>\n",
       "      <td>Coronary Heart Disease</td>\n",
       "    </tr>\n",
       "    <tr>\n",
       "      <th>379318</th>\n",
       "      <td>931</td>\n",
       "      <td>217</td>\n",
       "      <td>18.4</td>\n",
       "      <td>4.1</td>\n",
       "      <td>26163545600</td>\n",
       "      <td>2017</td>\n",
       "      <td>MI</td>\n",
       "      <td>10.6</td>\n",
       "      <td>Coronary Heart Disease</td>\n",
       "    </tr>\n",
       "    <tr>\n",
       "      <th>379341</th>\n",
       "      <td>2642</td>\n",
       "      <td>424</td>\n",
       "      <td>87.1</td>\n",
       "      <td>8.2</td>\n",
       "      <td>26163546700</td>\n",
       "      <td>2017</td>\n",
       "      <td>MI</td>\n",
       "      <td>9.1</td>\n",
       "      <td>Coronary Heart Disease</td>\n",
       "    </tr>\n",
       "    <tr>\n",
       "      <th>379383</th>\n",
       "      <td>30</td>\n",
       "      <td>36</td>\n",
       "      <td>0.9</td>\n",
       "      <td>1.1</td>\n",
       "      <td>26163557400</td>\n",
       "      <td>2017</td>\n",
       "      <td>MI</td>\n",
       "      <td>7.3</td>\n",
       "      <td>Coronary Heart Disease</td>\n",
       "    </tr>\n",
       "    <tr>\n",
       "      <th>379397</th>\n",
       "      <td>4</td>\n",
       "      <td>6</td>\n",
       "      <td>0.1</td>\n",
       "      <td>0.2</td>\n",
       "      <td>26163557600</td>\n",
       "      <td>2017</td>\n",
       "      <td>MI</td>\n",
       "      <td>7.9</td>\n",
       "      <td>Coronary Heart Disease</td>\n",
       "    </tr>\n",
       "  </tbody>\n",
       "</table>\n",
       "</div>"
      ],
      "text/plain": [
       "       DP05_0038E DP05_0038M DP05_0038PE DP05_0038PM           ID  Year  \\\n",
       "378930        236        207         3.7         3.2  26099230602  2017   \n",
       "378977        197        114         2.8         1.6  26099230601  2017   \n",
       "378996        942        275        26.8         6.0  26099268400  2017   \n",
       "379102        353        116         4.7         1.6  26161400300  2017   \n",
       "379123         88         82         2.0         1.8  26161400600  2017   \n",
       "379155        439        170        21.2         7.3  26161404200  2017   \n",
       "379184       4180        472        96.0         2.7  26163541500  2017   \n",
       "379217       2092        290        93.9         3.1  26163541700  2017   \n",
       "379236       3017        427        95.1         5.5  26163543200  2017   \n",
       "379275       1479        371        96.0         2.6  26163545300  2017   \n",
       "379288       1490        264        88.5         9.5  26163545400  2017   \n",
       "379318        931        217        18.4         4.1  26163545600  2017   \n",
       "379341       2642        424        87.1         8.2  26163546700  2017   \n",
       "379383         30         36         0.9         1.1  26163557400  2017   \n",
       "379397          4          6         0.1         0.2  26163557600  2017   \n",
       "\n",
       "       StateAbbr  High_Confidence_Limit     Short_Question_Text  \n",
       "378930        MI                    8.0  Coronary Heart Disease  \n",
       "378977        MI                    7.0  Coronary Heart Disease  \n",
       "378996        MI                   10.5  Coronary Heart Disease  \n",
       "379102        MI                    1.8  Coronary Heart Disease  \n",
       "379123        MI                    3.4  Coronary Heart Disease  \n",
       "379155        MI                    4.3  Coronary Heart Disease  \n",
       "379184        MI                   10.6  Coronary Heart Disease  \n",
       "379217        MI                   10.5  Coronary Heart Disease  \n",
       "379236        MI                    7.9  Coronary Heart Disease  \n",
       "379275        MI                   10.6  Coronary Heart Disease  \n",
       "379288        MI                   10.1  Coronary Heart Disease  \n",
       "379318        MI                   10.6  Coronary Heart Disease  \n",
       "379341        MI                    9.1  Coronary Heart Disease  \n",
       "379383        MI                    7.3  Coronary Heart Disease  \n",
       "379397        MI                    7.9  Coronary Heart Disease  "
      ]
     },
     "execution_count": 12,
     "metadata": {},
     "output_type": "execute_result"
    }
   ],
   "source": [
    "chdMI.head(15)"
   ]
  },
  {
   "cell_type": "code",
   "execution_count": 13,
   "metadata": {},
   "outputs": [
    {
     "name": "stderr",
     "output_type": "stream",
     "text": [
      "/opt/anaconda3/lib/python3.7/site-packages/pandas/core/frame.py:2963: SettingWithCopyWarning: \n",
      "A value is trying to be set on a copy of a slice from a DataFrame.\n",
      "Try using .loc[row_indexer,col_indexer] = value instead\n",
      "\n",
      "See the caveats in the documentation: https://pandas.pydata.org/pandas-docs/stable/user_guide/indexing.html#returning-a-view-versus-a-copy\n",
      "  self[k1] = value[k2]\n"
     ]
    },
    {
     "data": {
      "text/plain": [
       "count    724.000000\n",
       "mean      44.781906\n",
       "std       38.695059\n",
       "min        0.000000\n",
       "25%        7.900000\n",
       "50%       27.800000\n",
       "75%       89.875000\n",
       "max      100.000000\n",
       "Name: DP05_0038PE, dtype: float64"
      ]
     },
     "execution_count": 13,
     "metadata": {},
     "output_type": "execute_result"
    }
   ],
   "source": [
    "chdMI[['DP05_0038E','DP05_0038M']] = chdMI[['DP05_0038E','DP05_0038M']].astype(int)\n",
    "chdMI[['DP05_0038PE','DP05_0038PM']] = chdMI[['DP05_0038PE','DP05_0038PM']].astype('float64')\n",
    "chdMI['DP05_0038PE'].describe()"
   ]
  },
  {
   "cell_type": "code",
   "execution_count": 26,
   "metadata": {},
   "outputs": [
    {
     "name": "stdout",
     "output_type": "stream",
     "text": [
      "4.0\n",
      "2.0\n",
      "1.3333333333333333\n",
      "1.0\n"
     ]
    },
    {
     "name": "stderr",
     "output_type": "stream",
     "text": [
      "/opt/anaconda3/lib/python3.7/site-packages/pandas/core/indexing.py:965: SettingWithCopyWarning: \n",
      "A value is trying to be set on a copy of a slice from a DataFrame.\n",
      "Try using .loc[row_indexer,col_indexer] = value instead\n",
      "\n",
      "See the caveats in the documentation: https://pandas.pydata.org/pandas-docs/stable/user_guide/indexing.html#returning-a-view-versus-a-copy\n",
      "  self.obj[item] = s\n"
     ]
    }
   ],
   "source": [
    "\n",
    "for i in range(25,101,25):\n",
    "    chdMI.loc[chdMI['DP05_0038PE'] <= np.percentile(chdMI['DP05_0038PE'],i), 'DL'] = dl"
   ]
  },
  {
   "cell_type": "code",
   "execution_count": 25,
   "metadata": {},
   "outputs": [
    {
     "data": {
      "text/html": [
       "<div>\n",
       "<style scoped>\n",
       "    .dataframe tbody tr th:only-of-type {\n",
       "        vertical-align: middle;\n",
       "    }\n",
       "\n",
       "    .dataframe tbody tr th {\n",
       "        vertical-align: top;\n",
       "    }\n",
       "\n",
       "    .dataframe thead th {\n",
       "        text-align: right;\n",
       "    }\n",
       "</style>\n",
       "<table border=\"1\" class=\"dataframe\">\n",
       "  <thead>\n",
       "    <tr style=\"text-align: right;\">\n",
       "      <th></th>\n",
       "      <th>DP05_0038E</th>\n",
       "      <th>DP05_0038M</th>\n",
       "      <th>DP05_0038PE</th>\n",
       "      <th>DP05_0038PM</th>\n",
       "      <th>ID</th>\n",
       "      <th>Year</th>\n",
       "      <th>StateAbbr</th>\n",
       "      <th>High_Confidence_Limit</th>\n",
       "      <th>Short_Question_Text</th>\n",
       "      <th>DL</th>\n",
       "    </tr>\n",
       "  </thead>\n",
       "  <tbody>\n",
       "    <tr>\n",
       "      <th>378930</th>\n",
       "      <td>236</td>\n",
       "      <td>207</td>\n",
       "      <td>3.7</td>\n",
       "      <td>3.2</td>\n",
       "      <td>26099230602</td>\n",
       "      <td>2017</td>\n",
       "      <td>MI</td>\n",
       "      <td>8.0</td>\n",
       "      <td>Coronary Heart Disease</td>\n",
       "      <td>1.0</td>\n",
       "    </tr>\n",
       "    <tr>\n",
       "      <th>378977</th>\n",
       "      <td>197</td>\n",
       "      <td>114</td>\n",
       "      <td>2.8</td>\n",
       "      <td>1.6</td>\n",
       "      <td>26099230601</td>\n",
       "      <td>2017</td>\n",
       "      <td>MI</td>\n",
       "      <td>7.0</td>\n",
       "      <td>Coronary Heart Disease</td>\n",
       "      <td>1.0</td>\n",
       "    </tr>\n",
       "    <tr>\n",
       "      <th>378996</th>\n",
       "      <td>942</td>\n",
       "      <td>275</td>\n",
       "      <td>26.8</td>\n",
       "      <td>6.0</td>\n",
       "      <td>26099268400</td>\n",
       "      <td>2017</td>\n",
       "      <td>MI</td>\n",
       "      <td>10.5</td>\n",
       "      <td>Coronary Heart Disease</td>\n",
       "      <td>1.0</td>\n",
       "    </tr>\n",
       "    <tr>\n",
       "      <th>379102</th>\n",
       "      <td>353</td>\n",
       "      <td>116</td>\n",
       "      <td>4.7</td>\n",
       "      <td>1.6</td>\n",
       "      <td>26161400300</td>\n",
       "      <td>2017</td>\n",
       "      <td>MI</td>\n",
       "      <td>1.8</td>\n",
       "      <td>Coronary Heart Disease</td>\n",
       "      <td>1.0</td>\n",
       "    </tr>\n",
       "    <tr>\n",
       "      <th>379123</th>\n",
       "      <td>88</td>\n",
       "      <td>82</td>\n",
       "      <td>2.0</td>\n",
       "      <td>1.8</td>\n",
       "      <td>26161400600</td>\n",
       "      <td>2017</td>\n",
       "      <td>MI</td>\n",
       "      <td>3.4</td>\n",
       "      <td>Coronary Heart Disease</td>\n",
       "      <td>1.0</td>\n",
       "    </tr>\n",
       "  </tbody>\n",
       "</table>\n",
       "</div>"
      ],
      "text/plain": [
       "        DP05_0038E  DP05_0038M  DP05_0038PE  DP05_0038PM           ID  Year  \\\n",
       "378930         236         207          3.7          3.2  26099230602  2017   \n",
       "378977         197         114          2.8          1.6  26099230601  2017   \n",
       "378996         942         275         26.8          6.0  26099268400  2017   \n",
       "379102         353         116          4.7          1.6  26161400300  2017   \n",
       "379123          88          82          2.0          1.8  26161400600  2017   \n",
       "\n",
       "       StateAbbr  High_Confidence_Limit     Short_Question_Text   DL  \n",
       "378930        MI                    8.0  Coronary Heart Disease  1.0  \n",
       "378977        MI                    7.0  Coronary Heart Disease  1.0  \n",
       "378996        MI                   10.5  Coronary Heart Disease  1.0  \n",
       "379102        MI                    1.8  Coronary Heart Disease  1.0  \n",
       "379123        MI                    3.4  Coronary Heart Disease  1.0  "
      ]
     },
     "execution_count": 25,
     "metadata": {},
     "output_type": "execute_result"
    }
   ],
   "source": [
    "chdMI.head()"
   ]
  },
  {
   "cell_type": "code",
   "execution_count": null,
   "metadata": {},
   "outputs": [],
   "source": [
    "chdMI.loc[chdMI['DP05_0038PE'] <= 100, 'DL']= 4\n",
    "chdMI.loc[chdMI['DP05_0038PE'] <= 89.875, 'DL']= 3\n",
    "chdMI.loc[chdMI['DP05_0038PE'] <= 27.8, 'DL']= 2\n",
    "chdMI.loc[chdMI['DP05_0038PE'] <= 7.9, 'DL']= 1"
   ]
  },
  {
   "cell_type": "code",
   "execution_count": 15,
   "metadata": {},
   "outputs": [
    {
     "name": "stderr",
     "output_type": "stream",
     "text": [
      "/opt/anaconda3/lib/python3.7/site-packages/ipykernel_launcher.py:1: SettingWithCopyWarning: \n",
      "A value is trying to be set on a copy of a slice from a DataFrame.\n",
      "Try using .loc[row_indexer,col_indexer] = value instead\n",
      "\n",
      "See the caveats in the documentation: https://pandas.pydata.org/pandas-docs/stable/user_guide/indexing.html#returning-a-view-versus-a-copy\n",
      "  \"\"\"Entry point for launching an IPython kernel.\n"
     ]
    }
   ],
   "source": [
    "chdMI['DL'] = chdMI['DL'].astype('int')"
   ]
  },
  {
   "cell_type": "code",
   "execution_count": 16,
   "metadata": {},
   "outputs": [
    {
     "data": {
      "text/html": [
       "<div>\n",
       "<style scoped>\n",
       "    .dataframe tbody tr th:only-of-type {\n",
       "        vertical-align: middle;\n",
       "    }\n",
       "\n",
       "    .dataframe tbody tr th {\n",
       "        vertical-align: top;\n",
       "    }\n",
       "\n",
       "    .dataframe thead th {\n",
       "        text-align: right;\n",
       "    }\n",
       "</style>\n",
       "<table border=\"1\" class=\"dataframe\">\n",
       "  <thead>\n",
       "    <tr style=\"text-align: right;\">\n",
       "      <th></th>\n",
       "      <th>DP05_0038E</th>\n",
       "      <th>DP05_0038M</th>\n",
       "      <th>DP05_0038PE</th>\n",
       "      <th>DP05_0038PM</th>\n",
       "      <th>ID</th>\n",
       "      <th>Year</th>\n",
       "      <th>StateAbbr</th>\n",
       "      <th>High_Confidence_Limit</th>\n",
       "      <th>Short_Question_Text</th>\n",
       "      <th>DL</th>\n",
       "    </tr>\n",
       "  </thead>\n",
       "  <tbody>\n",
       "    <tr>\n",
       "      <th>378930</th>\n",
       "      <td>236</td>\n",
       "      <td>207</td>\n",
       "      <td>3.7</td>\n",
       "      <td>3.2</td>\n",
       "      <td>26099230602</td>\n",
       "      <td>2017</td>\n",
       "      <td>MI</td>\n",
       "      <td>8.0</td>\n",
       "      <td>Coronary Heart Disease</td>\n",
       "      <td>1</td>\n",
       "    </tr>\n",
       "    <tr>\n",
       "      <th>378977</th>\n",
       "      <td>197</td>\n",
       "      <td>114</td>\n",
       "      <td>2.8</td>\n",
       "      <td>1.6</td>\n",
       "      <td>26099230601</td>\n",
       "      <td>2017</td>\n",
       "      <td>MI</td>\n",
       "      <td>7.0</td>\n",
       "      <td>Coronary Heart Disease</td>\n",
       "      <td>1</td>\n",
       "    </tr>\n",
       "    <tr>\n",
       "      <th>378996</th>\n",
       "      <td>942</td>\n",
       "      <td>275</td>\n",
       "      <td>26.8</td>\n",
       "      <td>6.0</td>\n",
       "      <td>26099268400</td>\n",
       "      <td>2017</td>\n",
       "      <td>MI</td>\n",
       "      <td>10.5</td>\n",
       "      <td>Coronary Heart Disease</td>\n",
       "      <td>2</td>\n",
       "    </tr>\n",
       "    <tr>\n",
       "      <th>379102</th>\n",
       "      <td>353</td>\n",
       "      <td>116</td>\n",
       "      <td>4.7</td>\n",
       "      <td>1.6</td>\n",
       "      <td>26161400300</td>\n",
       "      <td>2017</td>\n",
       "      <td>MI</td>\n",
       "      <td>1.8</td>\n",
       "      <td>Coronary Heart Disease</td>\n",
       "      <td>1</td>\n",
       "    </tr>\n",
       "    <tr>\n",
       "      <th>379123</th>\n",
       "      <td>88</td>\n",
       "      <td>82</td>\n",
       "      <td>2.0</td>\n",
       "      <td>1.8</td>\n",
       "      <td>26161400600</td>\n",
       "      <td>2017</td>\n",
       "      <td>MI</td>\n",
       "      <td>3.4</td>\n",
       "      <td>Coronary Heart Disease</td>\n",
       "      <td>1</td>\n",
       "    </tr>\n",
       "  </tbody>\n",
       "</table>\n",
       "</div>"
      ],
      "text/plain": [
       "        DP05_0038E  DP05_0038M  DP05_0038PE  DP05_0038PM           ID  Year  \\\n",
       "378930         236         207          3.7          3.2  26099230602  2017   \n",
       "378977         197         114          2.8          1.6  26099230601  2017   \n",
       "378996         942         275         26.8          6.0  26099268400  2017   \n",
       "379102         353         116          4.7          1.6  26161400300  2017   \n",
       "379123          88          82          2.0          1.8  26161400600  2017   \n",
       "\n",
       "       StateAbbr  High_Confidence_Limit     Short_Question_Text  DL  \n",
       "378930        MI                    8.0  Coronary Heart Disease   1  \n",
       "378977        MI                    7.0  Coronary Heart Disease   1  \n",
       "378996        MI                   10.5  Coronary Heart Disease   2  \n",
       "379102        MI                    1.8  Coronary Heart Disease   1  \n",
       "379123        MI                    3.4  Coronary Heart Disease   1  "
      ]
     },
     "execution_count": 16,
     "metadata": {},
     "output_type": "execute_result"
    }
   ],
   "source": [
    "chdMI.head()"
   ]
  },
  {
   "cell_type": "markdown",
   "metadata": {},
   "source": [
    "## One-Way ANOVA + Linear Regression\n",
    "### A Note on Categorical Variables\n",
    "I created categorical variable for every census tract based on their percentage Black population in relation to the rest of their state. Categories are 1, 2, 3, and 4 with 1 being a tract in the lower 25% of Michigan tracts for % of Black residents and 4 being the highest 25% of Michigan tracts for Black residents. This allows us to rank categorical variables and continue with statistical tests that require them.\n",
    "\n",
    "In addition, I also want to train a linear model that can predict the prevalence of CHD depending on a tract's Black population. In order to do that, I examine the distribution of our Black %'s ranging from 0-100."
   ]
  },
  {
   "cell_type": "code",
   "execution_count": 17,
   "metadata": {},
   "outputs": [],
   "source": [
    "import scipy.stats as stats"
   ]
  },
  {
   "cell_type": "markdown",
   "metadata": {},
   "source": [
    "### Assumptions\n",
    "Since the one-way ANOVA requires that the distributions of the levels of the independent variables, our Diversity Levels, we can check and see whether the histograms are a normal distribution. Another option would be to run a formal test such as the Shapiro-Wilke test, but I'm going to eyeball the distributions due to our decently large sample size. I determined them to all be normal distribution."
   ]
  },
  {
   "cell_type": "code",
   "execution_count": 18,
   "metadata": {},
   "outputs": [
    {
     "data": {
      "text/plain": [
       "array([[<matplotlib.axes._subplots.AxesSubplot object at 0x7fd29355f0d0>,\n",
       "        <matplotlib.axes._subplots.AxesSubplot object at 0x7fd2935a6e10>],\n",
       "       [<matplotlib.axes._subplots.AxesSubplot object at 0x7fd2935eb650>,\n",
       "        <matplotlib.axes._subplots.AxesSubplot object at 0x7fd293620e50>]],\n",
       "      dtype=object)"
      ]
     },
     "execution_count": 18,
     "metadata": {},
     "output_type": "execute_result"
    },
    {
     "data": {
      "image/png": "[encoded data removed]",
      "text/plain": [
       "<Figure size 432x288 with 4 Axes>"
      ]
     },
     "metadata": {
      "needs_background": "light"
     },
     "output_type": "display_data"
    }
   ],
   "source": [
    "chdMI['High_Confidence_Limit'].hist(chdMI['DL'],range=[0,15])"
   ]
  },
  {
   "cell_type": "markdown",
   "metadata": {},
   "source": [
    "### Data Distribution\n",
    "Notice that the distribution below of the % Black residents in a tract is bimodal. This raises issues for performing a linear regression because the samples in my training set are most likely to come from the far right (DL = 1) or far left (DL = 4) of the distribution, which doesn't expose the model to tracts with lessened degrees of segregation (DL = 2,3)."
   ]
  },
  {
   "cell_type": "code",
   "execution_count": 19,
   "metadata": {},
   "outputs": [
    {
     "data": {
      "text/plain": [
       "<matplotlib.axes._subplots.AxesSubplot at 0x7fd29374a950>"
      ]
     },
     "execution_count": 19,
     "metadata": {},
     "output_type": "execute_result"
    },
    {
     "data": {
      "image/png": "[encoded data removed]",
      "text/plain": [
       "<Figure size 432x288 with 1 Axes>"
      ]
     },
     "metadata": {
      "needs_background": "light"
     },
     "output_type": "display_data"
    }
   ],
   "source": [
    "chdMI['DP05_0038PE'].hist(bins=40)"
   ]
  },
  {
   "cell_type": "code",
   "execution_count": 20,
   "metadata": {},
   "outputs": [
    {
     "name": "stdout",
     "output_type": "stream",
     "text": [
      "<bound method Series.unique of 378930    Coronary Heart Disease\n",
      "378977    Coronary Heart Disease\n",
      "378996    Coronary Heart Disease\n",
      "379102    Coronary Heart Disease\n",
      "379123    Coronary Heart Disease\n",
      "                   ...          \n",
      "399564    Coronary Heart Disease\n",
      "399606    Coronary Heart Disease\n",
      "399628    Coronary Heart Disease\n",
      "399648    Coronary Heart Disease\n",
      "399681    Coronary Heart Disease\n",
      "Name: Short_Question_Text, Length: 724, dtype: object>\n"
     ]
    }
   ],
   "source": [
    "print(chdMI['Short_Question_Text'].unique)"
   ]
  },
  {
   "cell_type": "markdown",
   "metadata": {},
   "source": [
    "After conducting a one-way ANOVA, we can see the result is a miniscule p-value. This means that the percentage of Black people in a given census tract has an impact on the rates of Coronary Heart Disease in Michigan. This is something we can explore more with histograms of the distributions."
   ]
  },
  {
   "cell_type": "markdown",
   "metadata": {},
   "source": [
    "We notice that the distributions become progressiv"
   ]
  },
  {
   "cell_type": "code",
   "execution_count": 21,
   "metadata": {},
   "outputs": [
    {
     "data": {
      "image/png": "[encoded data removed]",
      "text/plain": [
       "<Figure size 432x288 with 1 Axes>"
      ]
     },
     "metadata": {
      "needs_background": "light"
     },
     "output_type": "display_data"
    }
   ],
   "source": [
    "fig=plt.figure()\n",
    "ax=fig.add_axes([0,0,1,1])\n",
    "ax.scatter(chdMI['DP05_0038PE'],chdMI['High_Confidence_Limit'], color='r')\n",
    "ax.set_xlabel('Percentage of Black residents')\n",
    "ax.set_ylabel('% of Residents with CHD')\n",
    "ax.set_title('CHD + Blackness')\n",
    "plt.show()"
   ]
  },
  {
   "cell_type": "markdown",
   "metadata": {},
   "source": [
    "There's a couple of things to note from the preceding graph. For one, most census tracts in Michigan either have a high percentage of Black residents (>80%) or a very small percentage (<20%). This demonstrates a high degree of segregation between Black and non-Black residents of Michigan. Additionally, there appears to be a positive relationship between the percentage of Black residents and % of Residents afflicted with Coronary Heart Disease, but we won't know until we run a regression."
   ]
  },
  {
   "cell_type": "code",
   "execution_count": 22,
   "metadata": {},
   "outputs": [
    {
     "name": "stdout",
     "output_type": "stream",
     "text": [
      "Coefficients: \n",
      " [[ 4.42421568e-02 -2.57981695e-01]\n",
      " [-1.57295258e-17  1.00000000e+00]]\n",
      "Mean squared error: 2.22\n",
      "Coefficient of determination: 0.62\n"
     ]
    },
    {
     "data": {
      "image/png": "[encoded data removed]",
      "text/plain": [
       "<Figure size 432x288 with 1 Axes>"
      ]
     },
     "metadata": {},
     "output_type": "display_data"
    }
   ],
   "source": [
    "from sklearn.linear_model import LinearRegression\n",
    "from sklearn.model_selection import train_test_split\n",
    "from sklearn.metrics import mean_squared_error, r2_score\n",
    "\n",
    "\n",
    "chd_x = chdMI[['DP05_0038PE','DL']][:]\n",
    "chd_y = chdMI[['High_Confidence_Limit','DL']][:]\n",
    "x_train, x_test, y_train, y_test = train_test_split(chd_x,chd_y,stratify=chd_x['DL'],test_size=0.25)\n",
    "lin_model = LinearRegression()\n",
    "lin_model.fit(x_train,y_train)\n",
    "\n",
    "y_predict = lin_model.predict(x_test)\n",
    "print('Coefficients: \\n', lin_model.coef_)\n",
    "\n",
    "# The mean squared error\n",
    "print('Mean squared error: %.2f'\n",
    "      % mean_squared_error(y_test, y_predict))\n",
    "# The coefficient of determination: 1 is perfect prediction\n",
    "print('Coefficient of determination: %.2f'\n",
    "      % r2_score(y_test, y_predict))\n",
    "\n",
    "# Plot outputs\n",
    "plt.scatter(x_test, y_test,  color='black')\n",
    "plt.plot(x_test, y_predict, color='blue', linewidth=1)\n",
    "\n",
    "plt.xticks(())\n",
    "plt.yticks(())\n",
    "\n",
    "plt.show()"
   ]
  },
  {
   "cell_type": "markdown",
   "metadata": {},
   "source": [
    "In the linear regression, I'd like to stress the importance of the stratify parameter in the selection of the training and test sets. By ensuring that there was an equal proportion of each Diversity Level, our model was able to train on census tracts of each DL so that the model takes into account the CHD rates of tracts with higher percentages of Black residents."
   ]
  },
  {
   "cell_type": "code",
   "execution_count": 23,
   "metadata": {},
   "outputs": [
    {
     "data": {
      "text/plain": [
       "F_onewayResult(statistic=0.6359111390548047, pvalue=0.6187354495754346)"
      ]
     },
     "execution_count": 23,
     "metadata": {},
     "output_type": "execute_result"
    }
   ],
   "source": [
    "stats.f_oneway(chdMI ['High_Confidence_Limit'][chdMI['DP05_0038PE'] == 1],\n",
    "               chdMI['High_Confidence_Limit'][chdMI['DP05_0038PE'] == 2],\n",
    "               chdMI['High_Confidence_Limit'][chdMI['DP05_0038PE'] == 3],\n",
    "               chdMI['High_Confidence_Limit'][chdMI['DP05_0038PE'] == 4],)"
   ]
  },
  {
   "cell_type": "markdown",
   "metadata": {},
   "source": [
    "Since we got a p-value greater than 0.05, we accept the null hypothesis that the percentage of Black residents doesn't have an impact on coronary heart disease. We can instead continue with our analysis and consider alternative factors such as the percentage of people of color (POC) as opposed to just Black residents, and consider other ailments such as Asthma and High Blood Pressure. It's also worth noting that, since the data is composed of only large cities, it excludes health data from rural and suburban cities in Michigan, which may have an alternate racial demographic."
   ]
  },
  {
   "cell_type": "code",
   "execution_count": 24,
   "metadata": {},
   "outputs": [
    {
     "data": {
      "text/html": [
       "<div>\n",
       "<style scoped>\n",
       "    .dataframe tbody tr th:only-of-type {\n",
       "        vertical-align: middle;\n",
       "    }\n",
       "\n",
       "    .dataframe tbody tr th {\n",
       "        vertical-align: top;\n",
       "    }\n",
       "\n",
       "    .dataframe thead th {\n",
       "        text-align: right;\n",
       "    }\n",
       "</style>\n",
       "<table border=\"1\" class=\"dataframe\">\n",
       "  <thead>\n",
       "    <tr style=\"text-align: right;\">\n",
       "      <th></th>\n",
       "      <th>DP05_0038PE</th>\n",
       "      <th>DL</th>\n",
       "    </tr>\n",
       "  </thead>\n",
       "  <tbody>\n",
       "    <tr>\n",
       "      <th>378930</th>\n",
       "      <td>3.7</td>\n",
       "      <td>1</td>\n",
       "    </tr>\n",
       "    <tr>\n",
       "      <th>378977</th>\n",
       "      <td>2.8</td>\n",
       "      <td>1</td>\n",
       "    </tr>\n",
       "    <tr>\n",
       "      <th>378996</th>\n",
       "      <td>26.8</td>\n",
       "      <td>2</td>\n",
       "    </tr>\n",
       "    <tr>\n",
       "      <th>379102</th>\n",
       "      <td>4.7</td>\n",
       "      <td>1</td>\n",
       "    </tr>\n",
       "    <tr>\n",
       "      <th>379123</th>\n",
       "      <td>2.0</td>\n",
       "      <td>1</td>\n",
       "    </tr>\n",
       "  </tbody>\n",
       "</table>\n",
       "</div>"
      ],
      "text/plain": [
       "        DP05_0038PE  DL\n",
       "378930          3.7   1\n",
       "378977          2.8   1\n",
       "378996         26.8   2\n",
       "379102          4.7   1\n",
       "379123          2.0   1"
      ]
     },
     "execution_count": 24,
     "metadata": {},
     "output_type": "execute_result"
    }
   ],
   "source": [
    "chdMI[['DP05_0038PE','DL']].head()"
   ]
  },
  {
   "cell_type": "code",
   "execution_count": null,
   "metadata": {},
   "outputs": [],
   "source": []
  }
 ],
 "metadata": {
  "kernelspec": {
   "display_name": "Python 3",
   "language": "python",
   "name": "python3"
  },
  "language_info": {
   "codemirror_mode": {
    "name": "ipython",
    "version": 3
   },
   "file_extension": ".py",
   "mimetype": "text/x-python",
   "name": "python",
   "nbconvert_exporter": "python",
   "pygments_lexer": "ipython3",
   "version": "3.7.6"
  }
 },
 "nbformat": 4,
 "nbformat_minor": 4
}
