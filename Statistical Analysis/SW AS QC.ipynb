{
 "cells": [
  {
   "cell_type": "markdown",
   "metadata": {},
   "source": [
    "## Statistical Anomaly Detection\n",
    "This is a framework for statistical anomaly detection for quantitative historical data for randomized web traffic data. In this instance, I break down the data by its site and calculate the appropriate standard deviations from a user-provided Z-Score.\n",
    "Edited and compiled by Kennon Stewart."
   ]
  },
  {
   "cell_type": "code",
   "execution_count": 1,
   "metadata": {},
   "outputs": [
    {
     "data": {
      "application/javascript": [
       "IPython.notebook.set_autosave_interval(30000)"
      ]
     },
     "metadata": {},
     "output_type": "display_data"
    },
    {
     "name": "stdout",
     "output_type": "stream",
     "text": [
      "Autosaving every 30 seconds\n"
     ]
    }
   ],
   "source": [
    "# importing necessary data and statistical packages\n",
    "import pandas as pd\n",
    "import numpy as np\n",
    "from datetime import datetime\n",
    "%autosave 30"
   ]
  },
  {
   "cell_type": "code",
   "execution_count": 2,
   "metadata": {},
   "outputs": [],
   "source": [
    "# paths will vary by user\n",
    "path = r'C:\\Users\\stewart\\Downloads\\data.csv'"
   ]
  },
  {
   "cell_type": "markdown",
   "metadata": {},
   "source": [
    "### Data Cleaning\n",
    "The only data cleaning process we'll engage is straigtening out the CVR column, since the column type is technically a string from the .csv. This'll allow us to perform our calculations."
   ]
  },
  {
   "cell_type": "code",
   "execution_count": 3,
   "metadata": {},
   "outputs": [],
   "source": [
    "# I use the clean function to get rid of the percentages and return a float\n",
    "def clean(n):\n",
    "    return float(n[:-1])"
   ]
  },
  {
   "cell_type": "code",
   "execution_count": 4,
   "metadata": {},
   "outputs": [],
   "source": [
    "# Maybe put a graph here to better visualize your point?\n",
    "# But make it Amazon-specific.\n",
    "cvr = pd.read_csv(path)\n",
    "cvr.CVR = cvr.CVR.apply(lambda x: clean(x))\n",
    "cvr['Std Dev'] = 0"
   ]
  },
  {
   "cell_type": "markdown",
   "metadata": {},
   "source": [
    "### Calculations\n",
    "The calculations have three parts. First, calculating and returning the upper and lower bounds based on the unique site defined in the first indented line using the threshold function. Followed by the storage of those boundaries in key-value pairs stored in a dictionary returned by the calc function. The comp function compares the results of the test with the thresholds and returns the final value. And finally, the mapp function takes a Z-Score as input for analysis and returns the original CVR table with an additional column indicating its QC status by binary categorical variable. 1 codes to outlier."
   ]
  },
  {
   "cell_type": "code",
   "execution_count": 5,
   "metadata": {},
   "outputs": [],
   "source": [
    "# INPUTS:\n",
    "# i: site for calculation\n",
    "# n: Z-Score (input)\n",
    "def treshold(i,n):\n",
    "    df = cvr[cvr.Site==i]\n",
    "    lower_bound = np.mean(df.CVR)-(n*np.std(df.CVR))\n",
    "    upper_bound = np.mean(df.CVR)+(n*np.std(df.CVR))\n",
    "    return lower_bound, upper_bound"
   ]
  },
  {
   "cell_type": "code",
   "execution_count": 6,
   "metadata": {},
   "outputs": [],
   "source": [
    "# INPUTS:\n",
    "# i: site for calculation\n",
    "# n: Z-Score (input)\n",
    "def threshold(i,n):\n",
    "    # Assigns a temporary dataframe, df, to the appropriate subset of data\n",
    "    df = cvr[cvr.Site==i]\n",
    "    # Calculates descriptive statistics for subset\n",
    "    std = np.std(df['CVR'])\n",
    "    me = np.mean(df['CVR'])\n",
    "    # The subset rows are filled with the calculated Z-Score and the population Standard Deviation\n",
    "    # This is more for manual QC in the generated file\n",
    "    cvr.loc[cvr.Site==i,'Z']=(cvr.loc[cvr.Site==i,'CVR']-me)/std\n",
    "    cvr.loc[cvr.Site==i,'Std Dev']=std\n",
    "    # The upper and lower bounds of the subset QC threshold is calculated and returned\n",
    "    lower_bound = np.mean(df.CVR)-(n*std)\n",
    "    upper_bound = np.mean(df.CVR)+(n*std)\n",
    "    return lower_bound, upper_bound"
   ]
  },
  {
   "cell_type": "code",
   "execution_count": 7,
   "metadata": {},
   "outputs": [],
   "source": [
    "def calc(n):\n",
    "    d = { }\n",
    "    url = cvr.Site.unique()\n",
    "    for i in url:\n",
    "        lb, ub = threshold(i,n)\n",
    "        d.update({i:[lb,ub]})\n",
    "    return d"
   ]
  },
  {
   "cell_type": "code",
   "execution_count": 8,
   "metadata": {},
   "outputs": [],
   "source": [
    "# INPUTS\n",
    "# x: value for comparison\n",
    "# j: site for calculation\n",
    "def comp(x,j,n):\n",
    "    d = calc(n)\n",
    "    if x < d[j][0] or x > d[j][1]:return 0\n",
    "    else: return 1"
   ]
  },
  {
   "cell_type": "code",
   "execution_count": 9,
   "metadata": {},
   "outputs": [],
   "source": [
    "def outliers():\n",
    "    n = float(input('Please enter a Z-Score for measurement: '))\n",
    "    now = datetime.now()\n",
    "    dt_string = now.strftime(\"%d%m%Y %H%M%S\")\n",
    "    cvr['QC'] = cvr.apply(lambda x,: comp(x['CVR'],x['Site'],n),axis=1)\n",
    "    cvr.to_csv(r'C:\\Users\\stewart\\Downloads\\CRV_QC '+dt_string+'.csv')\n",
    "    return cvr.loc[(cvr.Date==cvr.Date.max())&(cvr.QC==0)],cvr.loc[cvr.QC==0]"
   ]
  },
  {
   "cell_type": "code",
   "execution_count": 10,
   "metadata": {},
   "outputs": [
    {
     "name": "stdout",
     "output_type": "stream",
     "text": [
      "Please enter a Z-Score for measurement: 2.5\n"
     ]
    },
    {
     "data": {
      "text/plain": [
       "(Empty DataFrame\n",
       " Columns: [Date, Site, CVR, Std Dev, Z, QC]\n",
       " Index: [],\n",
       "        Date             Site   CVR   Std Dev         Z  QC\n",
       " 17  2020-04  officedepot.com  30.9  3.713517  2.632276   0)"
      ]
     },
     "execution_count": 10,
     "metadata": {},
     "output_type": "execute_result"
    }
   ],
   "source": [
    "outliers()"
   ]
  },
  {
   "cell_type": "code",
   "execution_count": null,
   "metadata": {},
   "outputs": [],
   "source": []
  }
 ],
 "metadata": {
  "kernelspec": {
   "display_name": "Python 3",
   "language": "python",
   "name": "python3"
  },
  "language_info": {
   "codemirror_mode": {
    "name": "ipython",
    "version": 3
   },
   "file_extension": ".py",
   "mimetype": "text/x-python",
   "name": "python",
   "nbconvert_exporter": "python",
   "pygments_lexer": "ipython3",
   "version": "3.8.3"
  }
 },
 "nbformat": 4,
 "nbformat_minor": 4
}
